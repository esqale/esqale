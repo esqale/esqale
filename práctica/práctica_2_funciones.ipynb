{
  "nbformat": 4,
  "nbformat_minor": 0,
  "metadata": {
    "colab": {
      "provenance": [],
      "collapsed_sections": [
        "XvwzVuBqLePC",
        "vXkQZj9OAeZQ",
        "K7UIKC27Agoc",
        "s5_0fM5wAiqz",
        "nKz7JTc3AkXk",
        "ITKwZNxuXFhY",
        "34Hq0F37MBES",
        "l_ZH2o_FQ5UY",
        "eID1s7HEMKua",
        "k_oeq4O9Mpjj",
        "tEA0FWhU8M1w",
        "9AiFCGx18XEY",
        "t-UxRMCv916h",
        "TgB_BSP4N0Ma",
        "WkHUCFht-k-h",
        "1NOlTqaI-_FZ",
        "ijbJstX4zF9V"
      ],
      "include_colab_link": true
    },
    "kernelspec": {
      "name": "python3",
      "display_name": "Python 3"
    },
    "language_info": {
      "name": "python"
    }
  },
  "cells": [
    {
      "cell_type": "markdown",
      "metadata": {
        "id": "view-in-github",
        "colab_type": "text"
      },
      "source": [
        "<a href=\"https://colab.research.google.com/github/esqale/esqale/blob/main/pr%C3%A1ctica_2_funciones.ipynb\" target=\"_parent\"><img src=\"https://colab.research.google.com/assets/colab-badge.svg\" alt=\"Open In Colab\"/></a>"
      ]
    },
    {
      "cell_type": "markdown",
      "source": [
        "# <center>Maestría en Explotación de Datos y Descubrimiento del Conocimiento</center>\n",
        "## <center>FCEN - UBA</center>\n",
        "## <center>Curso de Nivelación de Algoritmos 2023</center>\n",
        "\n",
        "### <center>Clase Práctica 2</center>\n",
        "\n",
        "<p align=\"right\"> <br>\n",
        "Micaela Hirsch <br>\n",
        "Tomás Palazzo <br>\n",
        "Diego Onna<br>\n",
        "Cecilia Bolaños</p>"
      ],
      "metadata": {
        "id": "kIAWd5immlZF"
      }
    },
    {
      "cell_type": "markdown",
      "metadata": {
        "id": "Mdb8ojF0_5D3"
      },
      "source": [
        "## Clase 2 - Temas\n",
        "+ Condicional: if.. ; if..else..\n",
        "+ Ciclo: while..; ciclos anidados.\n",
        "+ Modularidad del código: funciones.\n",
        "+ Alcance (scope) de variables."
      ]
    },
    {
      "cell_type": "markdown",
      "metadata": {
        "id": "XvwzVuBqLePC"
      },
      "source": [
        "## Código de los slides de la parte Teórica"
      ]
    },
    {
      "cell_type": "markdown",
      "metadata": {
        "id": "nKz7JTc3AkXk"
      },
      "source": [
        "### Raiz Cuadrada"
      ]
    },
    {
      "cell_type": "code",
      "metadata": {
        "id": "ib-c9wQZAoxM"
      },
      "source": [
        "def raiz_cuadrada(n):\n",
        "   i = 1\n",
        "   while i * i <= n:\n",
        "      i = i + 1\n",
        "   return i - 1"
      ],
      "execution_count": null,
      "outputs": []
    },
    {
      "cell_type": "code",
      "metadata": {
        "colab": {
          "base_uri": "https://localhost:8080/"
        },
        "id": "PldSURw8K6LF",
        "outputId": "2aaf80ae-94b0-4082-804e-902d2c7db702"
      },
      "source": [
        "raiz_cuadrada(36)"
      ],
      "execution_count": null,
      "outputs": [
        {
          "output_type": "execute_result",
          "data": {
            "text/plain": [
              "6"
            ]
          },
          "metadata": {},
          "execution_count": 2
        }
      ]
    },
    {
      "cell_type": "code",
      "metadata": {
        "colab": {
          "base_uri": "https://localhost:8080/"
        },
        "id": "GN7Kry0hK4pQ",
        "outputId": "5946fbe6-c76a-4cae-d777-1e10ca7623ea"
      },
      "source": [
        "x = 1\n",
        "while x <= 9:\n",
        "   print(raiz_cuadrada(x))\n",
        "   x = x + 1"
      ],
      "execution_count": null,
      "outputs": [
        {
          "output_type": "stream",
          "name": "stdout",
          "text": [
            "1\n",
            "1\n",
            "1\n",
            "2\n",
            "2\n",
            "2\n",
            "2\n",
            "2\n",
            "3\n"
          ]
        }
      ]
    },
    {
      "cell_type": "markdown",
      "metadata": {
        "id": "ITKwZNxuXFhY"
      },
      "source": [
        "## Conceptos"
      ]
    },
    {
      "cell_type": "markdown",
      "metadata": {
        "id": "34Hq0F37MBES"
      },
      "source": [
        "### Flujo de Programa\n",
        "Los programas siguen un \"flujo\" definido por el programador. Esto le permite realizar operaciones complejas. Notar que todas estas estructuras terminan con un \"**:**\" , y la siguiente línea tiene un tab de indentación (como una sangría)."
      ]
    },
    {
      "cell_type": "code",
      "metadata": {
        "id": "_cK3Qev_Vfwv",
        "colab": {
          "base_uri": "https://localhost:8080/"
        },
        "outputId": "75fc3472-65c8-4e7a-9240-012797b2b4e2"
      },
      "source": [
        "fahr = float(75)\n",
        "cel = (5*(fahr-32))/9\n",
        "print (\"fahr=\", round(fahr,2), \"-> cel=\", round(cel,2))"
      ],
      "execution_count": null,
      "outputs": [
        {
          "output_type": "stream",
          "name": "stdout",
          "text": [
            "fahr= 75.0 -> cel= 23.89\n"
          ]
        }
      ]
    },
    {
      "cell_type": "markdown",
      "metadata": {
        "id": "l_ZH2o_FQ5UY"
      },
      "source": [
        "### Entrada de datos"
      ]
    },
    {
      "cell_type": "markdown",
      "metadata": {
        "id": "IiHaxkTmS4_r"
      },
      "source": [
        "##### Argumentos de la línea de comando"
      ]
    },
    {
      "cell_type": "code",
      "metadata": {
        "id": "m1jJ6da53kgo",
        "colab": {
          "base_uri": "https://localhost:8080/"
        },
        "outputId": "1ceddcdd-d834-4718-a4f2-2405434e511d"
      },
      "source": [
        "import sys\n",
        "\n",
        "print(sys.argv)\n",
        "len(sys.argv)"
      ],
      "execution_count": null,
      "outputs": [
        {
          "output_type": "stream",
          "name": "stdout",
          "text": [
            "['/usr/local/lib/python3.10/dist-packages/colab_kernel_launcher.py', '-f', '/root/.local/share/jupyter/runtime/kernel-577b9fec-b804-4cd7-a85a-66b1366ba2a8.json']\n"
          ]
        },
        {
          "output_type": "execute_result",
          "data": {
            "text/plain": [
              "3"
            ]
          },
          "metadata": {},
          "execution_count": 2
        }
      ]
    },
    {
      "cell_type": "code",
      "metadata": {
        "id": "n3ELHp1l13Qx",
        "colab": {
          "base_uri": "https://localhost:8080/"
        },
        "outputId": "b30b73e2-dedb-4465-b412-deed969b5da9"
      },
      "source": [
        "# Seteamos los valores de los parámetros de argv como si ejecutáramos desde la línea de comandos\n",
        "sys.argv[0] = 'archivo.py'\n",
        "sys.argv[1] = 75\n",
        "sys.argv.pop(-1)\n",
        "print(sys.argv)\n"
      ],
      "execution_count": null,
      "outputs": [
        {
          "output_type": "stream",
          "name": "stdout",
          "text": [
            "['archivo.py', 75]\n"
          ]
        }
      ]
    },
    {
      "cell_type": "code",
      "metadata": {
        "id": "XC_jLlRZQ3Go",
        "colab": {
          "base_uri": "https://localhost:8080/"
        },
        "outputId": "d08f121c-e609-40ab-9b06-ef8c2b2a33b7"
      },
      "source": [
        "import sys\n",
        "\n",
        "fahr = float(sys.argv[1])\n",
        "cel = (5*(fahr-32))/9\n",
        "print (\"fahr=\", round(fahr,2), \"-> cel=\", round(cel,2))\n"
      ],
      "execution_count": null,
      "outputs": [
        {
          "output_type": "stream",
          "name": "stdout",
          "text": [
            "fahr= 75.0 -> cel= 23.89\n"
          ]
        }
      ]
    },
    {
      "cell_type": "markdown",
      "metadata": {
        "id": "Sr-6ahlHAyyg"
      },
      "source": [
        "##### Input o entrada por teclado\n",
        "El input de un programa es la manera de recibir información del entorno externo al programa. Esto puede ser un usuario, un archivo, otro programa, un sensor, etc.\n",
        "\n",
        "Para ingresar una variable podemos usar input( \"Texto a mostrar:\" ). Corran este código ustedes para que les de una pequeña casilla donde escribir, y luego el programa escribirá lo que ustedes ingresaron."
      ]
    },
    {
      "cell_type": "code",
      "metadata": {
        "colab": {
          "base_uri": "https://localhost:8080/"
        },
        "id": "DEeT1IqNEB1b",
        "outputId": "4bc419d1-38c4-46a5-8b6c-e4d4bf0a9d3a"
      },
      "source": [
        "nombre = input(\"¿cual es tu nombre?\")\n",
        "print(\"Hola \" + nombre)"
      ],
      "execution_count": null,
      "outputs": [
        {
          "output_type": "stream",
          "name": "stdout",
          "text": [
            "¿cual es tu nombre?Micaela\n",
            "Hola Micaela\n"
          ]
        }
      ]
    },
    {
      "cell_type": "code",
      "metadata": {
        "id": "DpicbFPvAK7R",
        "colab": {
          "base_uri": "https://localhost:8080/"
        },
        "outputId": "64b5d460-70ce-44e2-fac2-44e2988c7405"
      },
      "source": [
        "lugar = input(\"Ingrese la ciudad donde vive: \")\n",
        "temperatura = input(\"Ingrese cuántos grados hace: \")\n",
        "\n",
        "print(\"\")\n",
        "print(\"Hola, soy de \", lugar)\n",
        "print(\"La temperatura es de \", temperatura, \" grados\")"
      ],
      "execution_count": null,
      "outputs": [
        {
          "output_type": "stream",
          "name": "stdout",
          "text": [
            "Ingrese la ciudad donde vive: CABA\n",
            "Ingrese cuántos grados hace: 15\n",
            "\n",
            "Hola, soy de  CABA\n",
            "La temperatura es de  15  grados\n"
          ]
        }
      ]
    },
    {
      "cell_type": "markdown",
      "metadata": {
        "id": "eID1s7HEMKua"
      },
      "source": [
        "### Estructura \"if\" (Sentencias Condicionales)\n",
        " Es la estructura básica que le permite al programador ver si se cumple una condición, y realizar distintas acciones según si eso sucede o no.\n",
        "\n",
        "**if** (condicion):\n",
        "    \n",
        "    ... lo que se hace si se cumple la condición\n",
        "    \n",
        "**elif** (condicion2):\n",
        "\n",
        "    ... lo que se hace si se cumple la condicion2\n",
        "     \n",
        "**else**:\n",
        "\n",
        "    ... lo que se hace si no se cumple la condición\n",
        "    \n",
        "    \n",
        " Siempre se comienza con **if**, después puede haber cualquier cantidad de **elif** (o ninguno) y luego se puede terminar con **else** (o no). Luego del **else** no puede haber más **elif**.\n"
      ]
    },
    {
      "cell_type": "code",
      "metadata": {
        "colab": {
          "base_uri": "https://localhost:8080/"
        },
        "id": "HyslFC7NEnQ0",
        "outputId": "67df10e7-c2c6-4404-9fc9-60b4759c0bfd"
      },
      "source": [
        "a = 5\n",
        "b = 9\n",
        "c = a * b\n",
        "\n",
        "if a > b:\n",
        "    print('a mayor que b')\n",
        "elif a < c:\n",
        "    print('c es mayor que todos')\n",
        "else:\n",
        "    print('final')"
      ],
      "execution_count": null,
      "outputs": [
        {
          "output_type": "stream",
          "name": "stdout",
          "text": [
            "c es mayor que todos\n"
          ]
        }
      ]
    },
    {
      "cell_type": "code",
      "metadata": {
        "colab": {
          "base_uri": "https://localhost:8080/"
        },
        "id": "azpw53XkGDq1",
        "outputId": "fee6bd6f-75da-4209-9524-5cb292fd57a2"
      },
      "source": [
        "opcion = input(\"elija una opcion entre 0 y 10\")\n",
        "type(opcion)"
      ],
      "execution_count": null,
      "outputs": [
        {
          "name": "stdout",
          "output_type": "stream",
          "text": [
            "elija una opcion entre 0 y 106\n"
          ]
        },
        {
          "output_type": "execute_result",
          "data": {
            "text/plain": [
              "str"
            ]
          },
          "metadata": {},
          "execution_count": 8
        }
      ]
    },
    {
      "cell_type": "code",
      "metadata": {
        "colab": {
          "base_uri": "https://localhost:8080/"
        },
        "id": "iT75MwDvGHZn",
        "outputId": "944f8d3a-232f-40e1-b47d-fbd3c8b937bb"
      },
      "source": [
        "type(int(opcion))"
      ],
      "execution_count": null,
      "outputs": [
        {
          "output_type": "execute_result",
          "data": {
            "text/plain": [
              "int"
            ]
          },
          "metadata": {},
          "execution_count": 9
        }
      ]
    },
    {
      "cell_type": "code",
      "metadata": {
        "colab": {
          "base_uri": "https://localhost:8080/"
        },
        "id": "Y1wPF3weFJN_",
        "outputId": "1af8ff93-0a96-4600-9b09-959599eb98ad"
      },
      "source": [
        "opcion = input(\"elija una opcion entre 0 y 10: \")\n",
        "#opcionint = int(opcion)\n",
        "\n",
        "if int(opcion) == 0:\n",
        "    print(\"felicitaciones ganaste!\")\n",
        "elif int(opcion) > 0 and int(opcion) < 5:\n",
        "    print(\"estas cerca\")\n",
        "elif int(opcion) > 5 and int(opcion) <= 10:\n",
        "    print(\"lo siento perdiste\")\n",
        "elif int(opcion) == 100:\n",
        "    print(\"GANASTE TODO\")\n",
        "else:\n",
        "  print(\"Valor errado\")"
      ],
      "execution_count": null,
      "outputs": [
        {
          "output_type": "stream",
          "name": "stdout",
          "text": [
            "elija una opcion entre 0 y 10: 7\n",
            "lo siento perdiste\n"
          ]
        }
      ]
    },
    {
      "cell_type": "code",
      "metadata": {
        "id": "y4rJTokkR-tI",
        "colab": {
          "base_uri": "https://localhost:8080/"
        },
        "outputId": "070fb817-73ba-4e09-a5a4-26ba8e005a73"
      },
      "source": [
        "import sys\n",
        "\n",
        "# conversor fahrenheit a celsius - Leyendo el dato por argv\n",
        "if len(sys.argv) != 2:\n",
        "\tprint(\"uso: f2c valor\\n\")\n",
        "else:\n",
        "\tfahr = float(sys.argv[1])\n",
        "\tcel = (5*(fahr-32))/9\n",
        "\tprint (\"fahr=\", round(fahr,2), \"-> cel=\", round(cel,2))"
      ],
      "execution_count": null,
      "outputs": [
        {
          "output_type": "stream",
          "name": "stdout",
          "text": [
            "fahr= 75.0 -> cel= 23.89\n"
          ]
        }
      ]
    },
    {
      "cell_type": "code",
      "metadata": {
        "id": "L95lPRGrCzJE",
        "colab": {
          "base_uri": "https://localhost:8080/"
        },
        "outputId": "00026b1c-9556-4ad4-e9f7-3b77d5e09e3e"
      },
      "source": [
        "# conversor fahrenheit a celsius - Leyendo el dato por ingreso del teclado\n",
        "\n",
        "x = input(\"Ingrese temperatura en fahrenheitt: \")\n",
        "if (x.isnumeric() == False):\n",
        "  print(\"Debe ingresar un valor numérico Real\")\n",
        "else:\n",
        "  fahr = float(x)\n",
        "  cel = (5*(fahr-32))/9\n",
        "  print (\"fahr=\", round(fahr,2), \"-> cel=\", round(cel,2))"
      ],
      "execution_count": null,
      "outputs": [
        {
          "output_type": "stream",
          "name": "stdout",
          "text": [
            "Ingrese temperatura en fahrenheitt: 100\n",
            "fahr= 100.0 -> cel= 37.78\n"
          ]
        }
      ]
    },
    {
      "cell_type": "markdown",
      "metadata": {
        "id": "k_oeq4O9Mpjj"
      },
      "source": [
        "### Estructura \"while\" (Ciclos o bucles)\n",
        "Permite ejecutar operaciones mientras se cumpla una condición.\n",
        "\n",
        "**while** (Condicion):\n",
        "\n",
        "    ... lo que se hace mientras se cumpla la condicion\n",
        "\n",
        "**else** :\n",
        "\n",
        "    ... Se ejecuta cuando la condicion no se cumple más"
      ]
    },
    {
      "cell_type": "markdown",
      "metadata": {
        "id": "elBYmvOHSfqX"
      },
      "source": [
        "Generar una tabla de conversión de grados\n",
        "Fahrenheit a Celsius partiendo de 0 hasta\n",
        "100 a intervalos de 10."
      ]
    },
    {
      "cell_type": "code",
      "metadata": {
        "id": "iKDOK57wSXK6",
        "colab": {
          "base_uri": "https://localhost:8080/"
        },
        "outputId": "878dedba-8e65-4ca3-ef3c-fdd777e05ee2"
      },
      "source": [
        "# Conversor fahrenheit a celsius\n",
        "\n",
        "fahr = 0\n",
        "while fahr < 101:\n",
        "\tcel = (5*(fahr-32))/9\n",
        "\tprint(\"fahr=\", round(fahr,2), \"-> cel=\", round(cel,2))\n",
        "\tfahr = fahr + 10"
      ],
      "execution_count": null,
      "outputs": [
        {
          "output_type": "stream",
          "name": "stdout",
          "text": [
            "fahr= 0 -> cel= -17.78\n",
            "fahr= 10 -> cel= -12.22\n",
            "fahr= 20 -> cel= -6.67\n",
            "fahr= 30 -> cel= -1.11\n",
            "fahr= 40 -> cel= 4.44\n",
            "fahr= 50 -> cel= 10.0\n",
            "fahr= 60 -> cel= 15.56\n",
            "fahr= 70 -> cel= 21.11\n",
            "fahr= 80 -> cel= 26.67\n",
            "fahr= 90 -> cel= 32.22\n",
            "fahr= 100 -> cel= 37.78\n"
          ]
        }
      ]
    },
    {
      "cell_type": "markdown",
      "metadata": {
        "id": "gW4dKpFhTGcA"
      },
      "source": [
        "Generar una tabla de conversión de grados\n",
        "Fahrenheit a Celsius partiendo de 0 hasta\n",
        "100 a intervalos de 10.\n",
        "Y luego de 100 a 110 a intervalos de 1."
      ]
    },
    {
      "cell_type": "code",
      "metadata": {
        "id": "YTqeaRVmTIi_",
        "colab": {
          "base_uri": "https://localhost:8080/"
        },
        "outputId": "877622b7-8228-46e6-f01e-2b3a06385fa1"
      },
      "source": [
        "# conversor fahrenheit a celsius\n",
        "\n",
        "fahr = 0\n",
        "while fahr < 101:\n",
        "\tcel = (5*(fahr-32))/9\n",
        "\tprint(\"fahr=\", round(fahr,2), \"-> cel=\", round(cel,2))\n",
        "\tfahr = fahr + 10\n",
        "\n",
        "fahr = 101\n",
        "while fahr < 111:\n",
        "\tcel = (5*(fahr-32))/9\n",
        "\tprint(\"fahr=\", round(fahr,2), \"-> cel=\", round(cel,2))\n",
        "\tfahr = fahr + 1"
      ],
      "execution_count": null,
      "outputs": [
        {
          "output_type": "stream",
          "name": "stdout",
          "text": [
            "fahr= 0 -> cel= -17.78\n",
            "fahr= 10 -> cel= -12.22\n",
            "fahr= 20 -> cel= -6.67\n",
            "fahr= 30 -> cel= -1.11\n",
            "fahr= 40 -> cel= 4.44\n",
            "fahr= 50 -> cel= 10.0\n",
            "fahr= 60 -> cel= 15.56\n",
            "fahr= 70 -> cel= 21.11\n",
            "fahr= 80 -> cel= 26.67\n",
            "fahr= 90 -> cel= 32.22\n",
            "fahr= 100 -> cel= 37.78\n",
            "fahr= 101 -> cel= 38.33\n",
            "fahr= 102 -> cel= 38.89\n",
            "fahr= 103 -> cel= 39.44\n",
            "fahr= 104 -> cel= 40.0\n",
            "fahr= 105 -> cel= 40.56\n",
            "fahr= 106 -> cel= 41.11\n",
            "fahr= 107 -> cel= 41.67\n",
            "fahr= 108 -> cel= 42.22\n",
            "fahr= 109 -> cel= 42.78\n",
            "fahr= 110 -> cel= 43.33\n"
          ]
        }
      ]
    },
    {
      "cell_type": "markdown",
      "metadata": {
        "id": "pYHRP74qNJ1C"
      },
      "source": [
        "### Estructura \"for\" (Ciclos o bucles)\n",
        "La estructura del for permite realizar una serie de acciones con una variable, que cambia su valor en cada repetición (iteración).\n",
        "\n",
        "for (variable) in (conjunto de valores):\n",
        "\n",
        "... Lo que quieras hacer con tu variable\n",
        "Veámoslo en un ejemplo de codigo:"
      ]
    },
    {
      "cell_type": "code",
      "metadata": {
        "id": "YhwJ-thzNQ7v",
        "colab": {
          "base_uri": "https://localhost:8080/"
        },
        "outputId": "65558509-718e-4571-fa73-d8100f050b5b"
      },
      "source": [
        "for x in range(0,18,6):\n",
        "    print(x)"
      ],
      "execution_count": null,
      "outputs": [
        {
          "output_type": "stream",
          "name": "stdout",
          "text": [
            "0\n",
            "6\n",
            "12\n"
          ]
        }
      ]
    },
    {
      "cell_type": "markdown",
      "metadata": {
        "id": "m8z6yQSnNRqN"
      },
      "source": [
        "range(a,b,d) nos genera los valores desde a hasta b con incrementos de d, por ejemplo el siguiente codigo generara los numeros pares entre 0 y 10:"
      ]
    },
    {
      "cell_type": "code",
      "metadata": {
        "id": "MP3t9GNvNa3j",
        "colab": {
          "base_uri": "https://localhost:8080/"
        },
        "outputId": "800150e4-6995-4cdf-9d7e-11cc2afe22c6"
      },
      "source": [
        "for x in range(0,10,2):\n",
        "    print(x)"
      ],
      "execution_count": null,
      "outputs": [
        {
          "output_type": "stream",
          "name": "stdout",
          "text": [
            "0\n",
            "2\n",
            "4\n",
            "6\n",
            "8\n"
          ]
        }
      ]
    },
    {
      "cell_type": "markdown",
      "metadata": {
        "id": "3C1FH9fBNhub"
      },
      "source": [
        "Noten que el límite superior del rango nunca es incluído.\n",
        "\n",
        "Al utilizar la instrucción range( ) no es necesario proporcionar siempre los 3 parametros. Observen que sucede cuando se proporcionan 1, 2 o 3 parámetros:"
      ]
    },
    {
      "cell_type": "code",
      "metadata": {
        "id": "X6GFkVpRNl8q",
        "colab": {
          "base_uri": "https://localhost:8080/"
        },
        "outputId": "5da56f0d-18b9-421d-d588-e0b45343ca4c"
      },
      "source": [
        "print(\"range(5):\")\n",
        "for x in range(5):\n",
        "    print(x)\n",
        "\n",
        "print(\"range(10, 15):\")\n",
        "for x in range(10, 15):\n",
        "    print(x)\n",
        "\n",
        "print(\"range(10, 20, 3):\")\n",
        "for x in range(10, 20, 3):\n",
        "    print(x)"
      ],
      "execution_count": null,
      "outputs": [
        {
          "output_type": "stream",
          "name": "stdout",
          "text": [
            "range(5):\n",
            "0\n",
            "1\n",
            "2\n",
            "3\n",
            "4\n",
            "range(10, 15):\n",
            "10\n",
            "11\n",
            "12\n",
            "13\n",
            "14\n",
            "range(10, 20, 3):\n",
            "10\n",
            "13\n",
            "16\n",
            "19\n"
          ]
        }
      ]
    },
    {
      "cell_type": "markdown",
      "metadata": {
        "id": "C7byBI4ETR3P"
      },
      "source": [
        "### Funciones"
      ]
    },
    {
      "cell_type": "markdown",
      "metadata": {
        "id": "ffRhgl57Xcpz"
      },
      "source": [
        "Podemos pensar que una funcion es como tomar un conjunto de instrucciones y empaquetarlas bajo el mismo nombre, es como un pequeño programa dentro del programa, una manera de crear nuestras propias instrucciones. Las funciones son bloques que nos permiten acortar el código no repitiendo estructuras que necesitamos utilizar mucho. Al igual que los programas las funciones tienen un input y un output: el input son las variables de entrada y su output es el valor o valores que devuelven.\n",
        "\n",
        "En Python las funciones se implementan de la siguiente forma:\n",
        "\n",
        "\n",
        "**def** miFunción($a_i,b_i,c_i,...$)**:**\n",
        "\n",
        "     ... Hago lo que necesite con las variables a,b,c\n",
        "    \n",
        "   **return** $a_o,b_o,c_o,...$\n",
        "\n",
        "\n",
        "Es importante tener en cuenta que la *definicion* de la funcion no provoca ninguna acción, solamente le indica a la computadora que la proxima vez que se escriba el nombre de la función, esta debe realizar las instrucciones indicadas por la definición.\n",
        "\n",
        "Confeccionar una funcion para convertir de fahrenheit a Celcius"
      ]
    },
    {
      "cell_type": "code",
      "metadata": {
        "id": "ktuCJO5MTUA3"
      },
      "source": [
        "# conversor fahrenheit a celsius\n",
        "\n",
        "def convertir(valorInicial, valorFinal, intervalo):\n",
        "\tfahr = valorInicial\n",
        "\twhile fahr < valorFinal+1:\n",
        "\t\tcel = (5*(fahr-32))/9\n",
        "\t\tprint(\"fahrenheit=\", round(fahr,2), \"-> celsius=\", round(cel,2))\n",
        "\t\tfahr = fahr + intervalo"
      ],
      "execution_count": null,
      "outputs": []
    },
    {
      "cell_type": "code",
      "metadata": {
        "colab": {
          "base_uri": "https://localhost:8080/"
        },
        "id": "-iClABXdI_rc",
        "outputId": "e54a19a6-eb40-40cf-96a7-a2eb58951e7c"
      },
      "source": [
        "convertir(0, 100, 10)"
      ],
      "execution_count": null,
      "outputs": [
        {
          "output_type": "stream",
          "name": "stdout",
          "text": [
            "fahrenheit= 0 -> celsius= -17.78\n",
            "fahrenheit= 10 -> celsius= -12.22\n",
            "fahrenheit= 20 -> celsius= -6.67\n",
            "fahrenheit= 30 -> celsius= -1.11\n",
            "fahrenheit= 40 -> celsius= 4.44\n",
            "fahrenheit= 50 -> celsius= 10.0\n",
            "fahrenheit= 60 -> celsius= 15.56\n",
            "fahrenheit= 70 -> celsius= 21.11\n",
            "fahrenheit= 80 -> celsius= 26.67\n",
            "fahrenheit= 90 -> celsius= 32.22\n",
            "fahrenheit= 100 -> celsius= 37.78\n"
          ]
        }
      ]
    },
    {
      "cell_type": "code",
      "metadata": {
        "colab": {
          "base_uri": "https://localhost:8080/"
        },
        "id": "X55j6Md-JF04",
        "outputId": "5a88b1f8-b1a5-45be-eda3-f8e59b176bee"
      },
      "source": [
        "convertir(101, 110, 1)"
      ],
      "execution_count": null,
      "outputs": [
        {
          "output_type": "stream",
          "name": "stdout",
          "text": [
            "fahrenheit= 101 -> celsius= 38.33\n",
            "fahrenheit= 102 -> celsius= 38.89\n",
            "fahrenheit= 103 -> celsius= 39.44\n",
            "fahrenheit= 104 -> celsius= 40.0\n",
            "fahrenheit= 105 -> celsius= 40.56\n",
            "fahrenheit= 106 -> celsius= 41.11\n",
            "fahrenheit= 107 -> celsius= 41.67\n",
            "fahrenheit= 108 -> celsius= 42.22\n",
            "fahrenheit= 109 -> celsius= 42.78\n",
            "fahrenheit= 110 -> celsius= 43.33\n"
          ]
        }
      ]
    },
    {
      "cell_type": "code",
      "metadata": {
        "colab": {
          "base_uri": "https://localhost:8080/"
        },
        "id": "kbeIi9-EJZ-j",
        "outputId": "763ba87c-36d2-4967-d50b-903addb6d9ce"
      },
      "source": [
        "convertir(25, 69, 2)"
      ],
      "execution_count": null,
      "outputs": [
        {
          "output_type": "stream",
          "name": "stdout",
          "text": [
            "fahrenheit= 25 -> celsius= -3.89\n",
            "fahrenheit= 27 -> celsius= -2.78\n",
            "fahrenheit= 29 -> celsius= -1.67\n",
            "fahrenheit= 31 -> celsius= -0.56\n",
            "fahrenheit= 33 -> celsius= 0.56\n",
            "fahrenheit= 35 -> celsius= 1.67\n",
            "fahrenheit= 37 -> celsius= 2.78\n",
            "fahrenheit= 39 -> celsius= 3.89\n",
            "fahrenheit= 41 -> celsius= 5.0\n",
            "fahrenheit= 43 -> celsius= 6.11\n",
            "fahrenheit= 45 -> celsius= 7.22\n",
            "fahrenheit= 47 -> celsius= 8.33\n",
            "fahrenheit= 49 -> celsius= 9.44\n",
            "fahrenheit= 51 -> celsius= 10.56\n",
            "fahrenheit= 53 -> celsius= 11.67\n",
            "fahrenheit= 55 -> celsius= 12.78\n",
            "fahrenheit= 57 -> celsius= 13.89\n",
            "fahrenheit= 59 -> celsius= 15.0\n",
            "fahrenheit= 61 -> celsius= 16.11\n",
            "fahrenheit= 63 -> celsius= 17.22\n",
            "fahrenheit= 65 -> celsius= 18.33\n",
            "fahrenheit= 67 -> celsius= 19.44\n",
            "fahrenheit= 69 -> celsius= 20.56\n"
          ]
        }
      ]
    },
    {
      "cell_type": "code",
      "metadata": {
        "colab": {
          "base_uri": "https://localhost:8080/"
        },
        "id": "4ZAUWLM2Jgv0",
        "outputId": "66d0b22f-f16d-4582-b55b-4440956b9db7"
      },
      "source": [
        "convertir(0, 9, 1)"
      ],
      "execution_count": null,
      "outputs": [
        {
          "output_type": "stream",
          "name": "stdout",
          "text": [
            "fahrenheit= 0 -> celsius= -17.78\n",
            "fahrenheit= 1 -> celsius= -17.22\n",
            "fahrenheit= 2 -> celsius= -16.67\n",
            "fahrenheit= 3 -> celsius= -16.11\n",
            "fahrenheit= 4 -> celsius= -15.56\n",
            "fahrenheit= 5 -> celsius= -15.0\n",
            "fahrenheit= 6 -> celsius= -14.44\n",
            "fahrenheit= 7 -> celsius= -13.89\n",
            "fahrenheit= 8 -> celsius= -13.33\n",
            "fahrenheit= 9 -> celsius= -12.78\n"
          ]
        }
      ]
    },
    {
      "cell_type": "markdown",
      "metadata": {
        "id": "5Eln7kRMTg5f"
      },
      "source": [
        "#### Encapsulamiento y abstracción"
      ]
    },
    {
      "cell_type": "markdown",
      "metadata": {
        "id": "a3Z3HDOhZsIC"
      },
      "source": [
        "La instrucción **return** sirve para indicar el resultado que la función \"devuelve\". Una vez que se alcanza la instrucción **return** la función termina y devuelve el valor indicado. En general es preferible devolver información usando **return** antes que imprimirla usando **print** ya que esto permite reutilizar la función para una cantidad de casos mayor, donde no siempre quiero mostrar el resultado en pantalla, aunque queda a criterio de cada uno para lo que necesite."
      ]
    },
    {
      "cell_type": "code",
      "metadata": {
        "id": "nT_yeBfsTl1v"
      },
      "source": [
        "# conversor fahrenheit a celsius\n",
        "\n",
        "def fahrenheit2Celsius(valor):\n",
        "\t\treturn (5*(valor-32))/9\n",
        "\n",
        "def convertir(valorInicial, valorFinal, intervalo):\n",
        "\tfahr = valorInicial\n",
        "\twhile fahr < valorFinal+1:\n",
        "\t\tcel = fahrenheit2Celsius(fahr)\n",
        "\t\tprint(\"fahr=\", round(fahr,2), \"-> cel=\", round(cel,2))\n",
        "\t\tfahr = fahr + intervalo;"
      ],
      "execution_count": null,
      "outputs": []
    },
    {
      "cell_type": "code",
      "metadata": {
        "colab": {
          "base_uri": "https://localhost:8080/"
        },
        "id": "yETN7UDfKT5K",
        "outputId": "5a685061-d8b4-413c-d50d-08b8ef45e142"
      },
      "source": [
        "convertir(0, 100, 10)"
      ],
      "execution_count": null,
      "outputs": [
        {
          "output_type": "stream",
          "name": "stdout",
          "text": [
            "fahr= 0 -> cel= -17.78\n",
            "fahr= 10 -> cel= -12.22\n",
            "fahr= 20 -> cel= -6.67\n",
            "fahr= 30 -> cel= -1.11\n",
            "fahr= 40 -> cel= 4.44\n",
            "fahr= 50 -> cel= 10.0\n",
            "fahr= 60 -> cel= 15.56\n",
            "fahr= 70 -> cel= 21.11\n",
            "fahr= 80 -> cel= 26.67\n",
            "fahr= 90 -> cel= 32.22\n",
            "fahr= 100 -> cel= 37.78\n"
          ]
        }
      ]
    },
    {
      "cell_type": "code",
      "metadata": {
        "id": "lTJf6TY6KRev"
      },
      "source": [],
      "execution_count": null,
      "outputs": []
    },
    {
      "cell_type": "markdown",
      "source": [
        "### Diccionarios"
      ],
      "metadata": {
        "id": "_FnG6ImhsTpK"
      }
    },
    {
      "cell_type": "code",
      "source": [
        "#Diccionario Vacio\n",
        "un_diccionario={}"
      ],
      "metadata": {
        "id": "K--dE4nZsWfd"
      },
      "execution_count": null,
      "outputs": []
    },
    {
      "cell_type": "code",
      "source": [
        "#Tipo de dato\n",
        "type(un_diccionario)"
      ],
      "metadata": {
        "colab": {
          "base_uri": "https://localhost:8080/"
        },
        "id": "Sgf6eiOvtq3k",
        "outputId": "317d1885-e16b-4872-d3a2-df4c374e2986"
      },
      "execution_count": null,
      "outputs": [
        {
          "output_type": "execute_result",
          "data": {
            "text/plain": [
              "dict"
            ]
          },
          "metadata": {},
          "execution_count": 26
        }
      ]
    },
    {
      "cell_type": "code",
      "source": [
        "#diccionario con dos elementos\n",
        "otro_diccionario = {'nombre': 'pepe', \"edad\": 3}"
      ],
      "metadata": {
        "id": "1WH9q0-0tulM"
      },
      "execution_count": null,
      "outputs": []
    },
    {
      "cell_type": "code",
      "source": [
        "#Cantidad de elementos\n",
        "len(otro_diccionario)"
      ],
      "metadata": {
        "colab": {
          "base_uri": "https://localhost:8080/"
        },
        "id": "O94Rc7ECx3kp",
        "outputId": "4916143a-d03d-4bc1-e0e7-266aa495fcee"
      },
      "execution_count": null,
      "outputs": [
        {
          "output_type": "execute_result",
          "data": {
            "text/plain": [
              "2"
            ]
          },
          "metadata": {},
          "execution_count": 28
        }
      ]
    },
    {
      "cell_type": "code",
      "source": [
        "#Accedemos a los elementos por clave\n",
        "otro_diccionario['nombre']"
      ],
      "metadata": {
        "colab": {
          "base_uri": "https://localhost:8080/",
          "height": 36
        },
        "id": "XXd6p4igtuVq",
        "outputId": "a03e4ebf-5f60-486e-9af0-de88de3bf8b3"
      },
      "execution_count": null,
      "outputs": [
        {
          "output_type": "execute_result",
          "data": {
            "text/plain": [
              "'pepe'"
            ],
            "application/vnd.google.colaboratory.intrinsic+json": {
              "type": "string"
            }
          },
          "metadata": {},
          "execution_count": 29
        }
      ]
    },
    {
      "cell_type": "code",
      "source": [
        "#Accedemos a los elementos por clave\n",
        "otro_diccionario['edad']"
      ],
      "metadata": {
        "colab": {
          "base_uri": "https://localhost:8080/"
        },
        "id": "trMNOGX-uIdl",
        "outputId": "0f1d2124-1e2f-4587-91dc-57da69564749"
      },
      "execution_count": null,
      "outputs": [
        {
          "output_type": "execute_result",
          "data": {
            "text/plain": [
              "3"
            ]
          },
          "metadata": {},
          "execution_count": 30
        }
      ]
    },
    {
      "cell_type": "code",
      "source": [
        "#Creo una nueva clave para el diccionario\n",
        "otro_diccionario['apellido']='perez'\n",
        "print(otro_diccionario)"
      ],
      "metadata": {
        "colab": {
          "base_uri": "https://localhost:8080/"
        },
        "id": "3lA030edwAVW",
        "outputId": "6d2f9e41-8180-4f6c-f4aa-c8ac277062a8"
      },
      "execution_count": null,
      "outputs": [
        {
          "output_type": "stream",
          "name": "stdout",
          "text": [
            "{'nombre': 'pepe', 'edad': 3, 'apellido': 'perez'}\n"
          ]
        }
      ]
    },
    {
      "cell_type": "code",
      "source": [
        "#Diccionarios con tres pares clave-valor\n",
        "dicc_1={'nombre':'Carlos','edad':20,'notas':[8,9,10]}\n",
        "dicc_2={'nombre':'Jorge','edad':25,'notas':[6,7,10]}"
      ],
      "metadata": {
        "id": "S6sJUKPtuQmh"
      },
      "execution_count": null,
      "outputs": []
    },
    {
      "cell_type": "code",
      "source": [
        "#Accedemos a los elementos por clave\n",
        "dicc_1['notas']"
      ],
      "metadata": {
        "colab": {
          "base_uri": "https://localhost:8080/"
        },
        "id": "jzfSf3SxutNf",
        "outputId": "a03109cf-b1fc-4769-b149-06b1fbbf0cc4"
      },
      "execution_count": null,
      "outputs": [
        {
          "output_type": "execute_result",
          "data": {
            "text/plain": [
              "[8, 9, 10]"
            ]
          },
          "metadata": {},
          "execution_count": 34
        }
      ]
    },
    {
      "cell_type": "code",
      "source": [
        "dicc_1['notas'][0]"
      ],
      "metadata": {
        "colab": {
          "base_uri": "https://localhost:8080/"
        },
        "id": "bO1kof3Mux7Z",
        "outputId": "f3c86147-21b8-4890-8aef-d2e416e32097"
      },
      "execution_count": null,
      "outputs": [
        {
          "output_type": "execute_result",
          "data": {
            "text/plain": [
              "8"
            ]
          },
          "metadata": {},
          "execution_count": 35
        }
      ]
    },
    {
      "cell_type": "code",
      "source": [
        "dicc_1['edad']<dicc_2['edad']"
      ],
      "metadata": {
        "colab": {
          "base_uri": "https://localhost:8080/"
        },
        "id": "4MV6BXZKuz4o",
        "outputId": "c47dce63-5dc2-451e-be16-e86d66801028"
      },
      "execution_count": null,
      "outputs": [
        {
          "output_type": "execute_result",
          "data": {
            "text/plain": [
              "True"
            ]
          },
          "metadata": {},
          "execution_count": 36
        }
      ]
    },
    {
      "cell_type": "code",
      "source": [
        "#Asignación\n",
        "dicc_3=dicc_2\n",
        "print(dicc_3)"
      ],
      "metadata": {
        "colab": {
          "base_uri": "https://localhost:8080/"
        },
        "id": "i-SmJcGcvpoO",
        "outputId": "d9a78346-2429-4c70-c0d7-1d93e35f9561"
      },
      "execution_count": null,
      "outputs": [
        {
          "output_type": "stream",
          "name": "stdout",
          "text": [
            "{'nombre': 'Jorge', 'edad': 25, 'notas': [6, 7, 10]}\n"
          ]
        }
      ]
    },
    {
      "cell_type": "code",
      "source": [
        "dicc_2['apellido']='perez'\n",
        "print(dicc_2)"
      ],
      "metadata": {
        "colab": {
          "base_uri": "https://localhost:8080/"
        },
        "id": "Skt-BnUbvvs3",
        "outputId": "d9ae8cae-0d4b-4d7e-ce97-613e56b35801"
      },
      "execution_count": null,
      "outputs": [
        {
          "output_type": "stream",
          "name": "stdout",
          "text": [
            "{'nombre': 'Jorge', 'edad': 25, 'notas': [6, 7, 10], 'apellido': 'perez'}\n"
          ]
        }
      ]
    },
    {
      "cell_type": "code",
      "source": [
        "print(dicc_3)"
      ],
      "metadata": {
        "colab": {
          "base_uri": "https://localhost:8080/"
        },
        "id": "GcOxhvR_w7KP",
        "outputId": "a51bdaf8-5fa1-4f1e-ba9b-7a952b408359"
      },
      "execution_count": null,
      "outputs": [
        {
          "output_type": "stream",
          "name": "stdout",
          "text": [
            "{'nombre': 'Jorge', 'edad': 25, 'notas': [6, 7, 10], 'apellido': 'perez'}\n"
          ]
        }
      ]
    },
    {
      "cell_type": "code",
      "source": [
        "dicc_3=dicc_2.copy()"
      ],
      "metadata": {
        "id": "Bj5yhDqBxCqB"
      },
      "execution_count": null,
      "outputs": []
    },
    {
      "cell_type": "code",
      "source": [
        "dicc_2['profesion']='contador'\n",
        "print(dicc_2)"
      ],
      "metadata": {
        "colab": {
          "base_uri": "https://localhost:8080/"
        },
        "id": "dZSVjskKxLHi",
        "outputId": "634cbb6f-0e1a-448f-c02a-3bf943caa20b"
      },
      "execution_count": null,
      "outputs": [
        {
          "output_type": "stream",
          "name": "stdout",
          "text": [
            "{'nombre': 'Jorge', 'edad': 25, 'notas': [6, 7, 10], 'apellido': 'perez', 'profesion': 'contador'}\n"
          ]
        }
      ]
    },
    {
      "cell_type": "code",
      "source": [
        "print(dicc_3)"
      ],
      "metadata": {
        "colab": {
          "base_uri": "https://localhost:8080/"
        },
        "id": "bncRjWzuxTds",
        "outputId": "d882ccb1-7eeb-4395-ed25-3ba2891fb8b8"
      },
      "execution_count": null,
      "outputs": [
        {
          "output_type": "stream",
          "name": "stdout",
          "text": [
            "{'nombre': 'Jorge', 'edad': 25, 'notas': [6, 7, 10], 'apellido': 'perez'}\n"
          ]
        }
      ]
    },
    {
      "cell_type": "markdown",
      "metadata": {
        "id": "RmTjNPPO8KqN"
      },
      "source": [
        "## Ejercicios"
      ]
    },
    {
      "cell_type": "markdown",
      "metadata": {
        "id": "WkHUCFht-k-h"
      },
      "source": [
        "1)\n",
        "\n",
        "Escriba un programa que reciba un número del usuario y repita el siguiente proceso usando un while:\n",
        "\n",
        "* Si el numero es par, se debe dividir por  2 .\n",
        "* Si el numero es impar, se debe multiplicar por  3  y sumar  1 .\n",
        "\n",
        "Este proceso se repite hasta llegar al numero  1  y luego muestra en pantalla la cantidad de pasos que tardó en llegar.\n",
        "\n",
        "Ejemplo para  n=6 :\n",
        "\n",
        "6,3,10,5,16,8,4,2,1\n",
        "\n",
        "Resultado = 8"
      ]
    },
    {
      "cell_type": "markdown",
      "metadata": {
        "id": "1NOlTqaI-_FZ"
      },
      "source": [
        "2)\n",
        "\n",
        "a) Escribir una función que calcule el promedio de 3 notas y entrege ese valor usando return.\n",
        "\n",
        "b) Reescribir la función anterior modificandola para asignar una importancia al primer examen de 20%, al segundo de 50% y al tercero de 30%.\n",
        "\n",
        "b)Llamar a cada función anterior 3 veces con distintas notas y verificar, mediante la instrucción if, si el alumno aprobó en cada caso (suponga que 4 es la nota de aprobación)."
      ]
    },
    {
      "cell_type": "markdown",
      "source": [
        "3)\n",
        "\n",
        "Implementar las funciones getMin, getMax y computeMean para que el siguiente programa pueda ejecutarse correctamente:\n",
        "\n",
        "    valores = [23,4,67,32,13]\n",
        "    print(\"El mínimo valor es: \", getMin(valores))\n",
        "    print(\"El máximo valor es: \", getMax(valores))\n",
        "    print(\"El promedio es: \", computeMean(valores))\n",
        "\n",
        "\n",
        "Las funciones no deben modificar el contenido de la lista."
      ],
      "metadata": {
        "id": "ijbJstX4zF9V"
      }
    }
  ]
}
