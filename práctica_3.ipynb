{
  "nbformat": 4,
  "nbformat_minor": 0,
  "metadata": {
    "colab": {
      "provenance": [],
      "collapsed_sections": [
        "oDkBPC4rMD8v",
        "Fm_1kH9rY6t2",
        "Y98G7O6kQrL2",
        "4J3wi0FwY7l2",
        "m0qbdIGDKcUe",
        "Rgd33nFaKltV"
      ],
      "include_colab_link": true
    },
    "kernelspec": {
      "name": "python3",
      "display_name": "Python 3"
    },
    "language_info": {
      "name": "python"
    }
  },
  "cells": [
    {
      "cell_type": "markdown",
      "metadata": {
        "id": "view-in-github",
        "colab_type": "text"
      },
      "source": [
        "<a href=\"https://colab.research.google.com/github/esqale/esqale/blob/main/pr%C3%A1ctica_3.ipynb\" target=\"_parent\"><img src=\"https://colab.research.google.com/assets/colab-badge.svg\" alt=\"Open In Colab\"/></a>"
      ]
    },
    {
      "cell_type": "markdown",
      "metadata": {
        "id": "Lxw26PeKKZdI"
      },
      "source": [
        "# <center>Maestría en Explotación de Datos y Descubrimiento del Conocimiento</center>\n",
        "## <center>FCEN - UBA</center>\n",
        "## <center>Curso de Nivelación de Algoritmos 2022</center>\n",
        "\n",
        "### <center>Clase Práctica 3</center>\n",
        "\n",
        "<p align=\"right\"> <br>\n",
        "Micaela Hirsch <br>\n",
        "Tomás Palazzo <br>\n",
        "Diego Onna<br>\n",
        "Cecilia Bolaños</p>"
      ]
    },
    {
      "cell_type": "markdown",
      "source": [
        "##Ejemplos Clase teórica"
      ],
      "metadata": {
        "id": "63polF4wZg7S"
      }
    },
    {
      "cell_type": "markdown",
      "metadata": {
        "id": "cVek5FUOsE-Q"
      },
      "source": [
        "### Ejemplo 1.1"
      ]
    },
    {
      "cell_type": "code",
      "metadata": {
        "id": "IzY1d0QUpVvt"
      },
      "source": [
        "def func1(A):\n",
        "  RV = 0\n",
        "  i = 0\n",
        "\n",
        "  while i < len(A):\n",
        "    j = 0\n",
        "    sumaAnteriores = 0\n",
        "    while j < i:\n",
        "      sumaAnteriores = sumaAnteriores + A[j]\n",
        "      j = j + 1\n",
        "    if sumaAnteriores == A[i]:\n",
        "      RV = RV +1\n",
        "    i = i + 1\n",
        "\n",
        "  return RV"
      ],
      "execution_count": null,
      "outputs": []
    },
    {
      "cell_type": "code",
      "metadata": {
        "id": "KPE943zQtPja",
        "colab": {
          "base_uri": "https://localhost:8080/"
        },
        "outputId": "e1b05ed7-576b-4fd6-8a2b-348761bfc5f7"
      },
      "source": [
        "lista =[1, 0, 1, 0, 2, 4]\n",
        "print(func1(lista))"
      ],
      "execution_count": null,
      "outputs": [
        {
          "output_type": "stream",
          "name": "stdout",
          "text": [
            "3\n"
          ]
        }
      ]
    },
    {
      "cell_type": "code",
      "source": [
        "lista =[1]\n",
        "print(func1(lista))"
      ],
      "metadata": {
        "id": "OrfGxNOd0Iz-",
        "colab": {
          "base_uri": "https://localhost:8080/"
        },
        "outputId": "62ed77e6-e134-4025-9432-b1ae080a1ae5"
      },
      "execution_count": null,
      "outputs": [
        {
          "output_type": "stream",
          "name": "stdout",
          "text": [
            "0\n"
          ]
        }
      ]
    },
    {
      "cell_type": "code",
      "source": [
        "lista =[1,0,1]\n",
        "print(func1(lista))"
      ],
      "metadata": {
        "id": "G6UPKN4W0OAe",
        "colab": {
          "base_uri": "https://localhost:8080/"
        },
        "outputId": "c8627511-fc7a-4eeb-c011-534aaebb7cdf"
      },
      "execution_count": null,
      "outputs": [
        {
          "output_type": "stream",
          "name": "stdout",
          "text": [
            "1\n"
          ]
        }
      ]
    },
    {
      "cell_type": "code",
      "source": [
        "lista =[1, 0, 1, 0, 2]\n",
        "print(func1(lista))"
      ],
      "metadata": {
        "id": "TTifevB70Qju",
        "colab": {
          "base_uri": "https://localhost:8080/"
        },
        "outputId": "6b4d3b86-95d9-4fac-d029-b4199c8dfeab"
      },
      "execution_count": null,
      "outputs": [
        {
          "output_type": "stream",
          "name": "stdout",
          "text": [
            "2\n"
          ]
        }
      ]
    },
    {
      "cell_type": "code",
      "source": [
        "lista =[1, 0, 1, 0, 2, 4]\n",
        "print(func1(lista))"
      ],
      "metadata": {
        "id": "kzuwJFNJcrtV",
        "colab": {
          "base_uri": "https://localhost:8080/"
        },
        "outputId": "e62abb5a-5675-41a5-e9de-b410b7ad424f"
      },
      "execution_count": null,
      "outputs": [
        {
          "output_type": "stream",
          "name": "stdout",
          "text": [
            "3\n"
          ]
        }
      ]
    },
    {
      "cell_type": "markdown",
      "metadata": {
        "id": "xPWV3lmotft7"
      },
      "source": [
        "### Ejemplo 1.2"
      ]
    },
    {
      "cell_type": "code",
      "metadata": {
        "id": "wd1lcSaAto_C"
      },
      "source": [
        "def func2(A):\n",
        "  RV = 0\n",
        "  i = 0\n",
        "  sumaAnteriores = 0\n",
        "  while i < len(A):\n",
        "    if sumaAnteriores==A[i]:\n",
        "      RV = RV + 1\n",
        "    sumaAnteriores = sumaAnteriores + A[i]\n",
        "    i = i + 1\n",
        "\n",
        "  return RV"
      ],
      "execution_count": null,
      "outputs": []
    },
    {
      "cell_type": "code",
      "source": [
        "lista =[1, 0, 1, 0, 2, 4]\n",
        "func2(lista)"
      ],
      "metadata": {
        "id": "q6PiivAlEGJ7",
        "colab": {
          "base_uri": "https://localhost:8080/"
        },
        "outputId": "3878dafa-68f9-4b23-d1cd-8d63e76c8747"
      },
      "execution_count": null,
      "outputs": [
        {
          "output_type": "execute_result",
          "data": {
            "text/plain": [
              "3"
            ]
          },
          "metadata": {},
          "execution_count": 10
        }
      ]
    },
    {
      "cell_type": "markdown",
      "source": [
        "### Diccionarios"
      ],
      "metadata": {
        "id": "_FnG6ImhsTpK"
      }
    },
    {
      "cell_type": "code",
      "source": [
        "#Diccionario Vacio\n",
        "un_diccionario = {}"
      ],
      "metadata": {
        "id": "K--dE4nZsWfd"
      },
      "execution_count": null,
      "outputs": []
    },
    {
      "cell_type": "code",
      "source": [
        "#Tipo de dato\n",
        "type(un_diccionario)"
      ],
      "metadata": {
        "id": "Sgf6eiOvtq3k",
        "colab": {
          "base_uri": "https://localhost:8080/"
        },
        "outputId": "1bea86f9-6fb4-4f99-9bfe-360f943de248"
      },
      "execution_count": null,
      "outputs": [
        {
          "output_type": "execute_result",
          "data": {
            "text/plain": [
              "dict"
            ]
          },
          "metadata": {},
          "execution_count": 12
        }
      ]
    },
    {
      "cell_type": "code",
      "source": [
        "#diccionario con dos elementos\n",
        "otro_diccionario = {'nombre': 'pepe', \"edad\": 3}"
      ],
      "metadata": {
        "id": "1WH9q0-0tulM"
      },
      "execution_count": null,
      "outputs": []
    },
    {
      "cell_type": "code",
      "source": [
        "#Cantidad de elementos\n",
        "len(otro_diccionario)"
      ],
      "metadata": {
        "id": "O94Rc7ECx3kp",
        "colab": {
          "base_uri": "https://localhost:8080/"
        },
        "outputId": "d615f232-95b9-4416-c72c-1f17d7aec3cc"
      },
      "execution_count": null,
      "outputs": [
        {
          "output_type": "execute_result",
          "data": {
            "text/plain": [
              "2"
            ]
          },
          "metadata": {},
          "execution_count": 14
        }
      ]
    },
    {
      "cell_type": "code",
      "source": [
        "#Accedemos a los elementos por clave\n",
        "otro_diccionario['nombre']"
      ],
      "metadata": {
        "id": "XXd6p4igtuVq",
        "colab": {
          "base_uri": "https://localhost:8080/",
          "height": 36
        },
        "outputId": "0845d056-57e2-48a0-e12a-b0a45465ba5e"
      },
      "execution_count": null,
      "outputs": [
        {
          "output_type": "execute_result",
          "data": {
            "text/plain": [
              "'pepe'"
            ],
            "application/vnd.google.colaboratory.intrinsic+json": {
              "type": "string"
            }
          },
          "metadata": {},
          "execution_count": 15
        }
      ]
    },
    {
      "cell_type": "code",
      "source": [
        "#Accedemos a los elementos por clave\n",
        "otro_diccionario['edad']"
      ],
      "metadata": {
        "id": "trMNOGX-uIdl",
        "colab": {
          "base_uri": "https://localhost:8080/"
        },
        "outputId": "d1d5a07f-4e83-4f6c-d6e5-54ba59287715"
      },
      "execution_count": null,
      "outputs": [
        {
          "output_type": "execute_result",
          "data": {
            "text/plain": [
              "3"
            ]
          },
          "metadata": {},
          "execution_count": 16
        }
      ]
    },
    {
      "cell_type": "code",
      "source": [
        "#Creo una nueva clave para el diccionario\n",
        "otro_diccionario['apellido'] = 'perez'\n",
        "print(otro_diccionario)"
      ],
      "metadata": {
        "id": "3lA030edwAVW",
        "colab": {
          "base_uri": "https://localhost:8080/"
        },
        "outputId": "0e31284b-2b24-4373-87c5-267f0db67fd2"
      },
      "execution_count": null,
      "outputs": [
        {
          "output_type": "stream",
          "name": "stdout",
          "text": [
            "{'nombre': 'pepe', 'edad': 3, 'apellido': 'perez'}\n"
          ]
        }
      ]
    },
    {
      "cell_type": "code",
      "source": [
        "#Diccionarios con tres pares clave-valor\n",
        "dicc_1={'nombre':'Carlos','edad':20,'notas':[8,9,10]}\n",
        "dicc_2={'nombre':'Jorge','edad':25,'notas':[6,7,10]}"
      ],
      "metadata": {
        "id": "S6sJUKPtuQmh"
      },
      "execution_count": null,
      "outputs": []
    },
    {
      "cell_type": "code",
      "source": [
        "#Accedemos a los elementos por clave\n",
        "dicc_1['notas']"
      ],
      "metadata": {
        "id": "jzfSf3SxutNf",
        "colab": {
          "base_uri": "https://localhost:8080/"
        },
        "outputId": "41b6dd51-ed8c-4f0d-fc2b-0872d15c0318"
      },
      "execution_count": null,
      "outputs": [
        {
          "output_type": "execute_result",
          "data": {
            "text/plain": [
              "[8, 9, 10]"
            ]
          },
          "metadata": {},
          "execution_count": 20
        }
      ]
    },
    {
      "cell_type": "code",
      "source": [
        "dicc_1['notas'][0]"
      ],
      "metadata": {
        "id": "bO1kof3Mux7Z",
        "colab": {
          "base_uri": "https://localhost:8080/"
        },
        "outputId": "10e5048a-b5d3-458a-969c-d4f8e7073f29"
      },
      "execution_count": null,
      "outputs": [
        {
          "output_type": "execute_result",
          "data": {
            "text/plain": [
              "8"
            ]
          },
          "metadata": {},
          "execution_count": 21
        }
      ]
    },
    {
      "cell_type": "code",
      "source": [
        "dicc_1['edad']<dicc_2['edad']"
      ],
      "metadata": {
        "id": "4MV6BXZKuz4o",
        "colab": {
          "base_uri": "https://localhost:8080/"
        },
        "outputId": "2d5ff78c-743f-49bd-f105-0f20246b69ea"
      },
      "execution_count": null,
      "outputs": [
        {
          "output_type": "execute_result",
          "data": {
            "text/plain": [
              "True"
            ]
          },
          "metadata": {},
          "execution_count": 22
        }
      ]
    },
    {
      "cell_type": "code",
      "source": [
        "#Asignación\n",
        "dicc_3=dicc_2\n",
        "print(dicc_3)"
      ],
      "metadata": {
        "id": "i-SmJcGcvpoO",
        "colab": {
          "base_uri": "https://localhost:8080/"
        },
        "outputId": "75bd5c92-f562-4097-ffb4-d9d9e500778e"
      },
      "execution_count": null,
      "outputs": [
        {
          "output_type": "stream",
          "name": "stdout",
          "text": [
            "{'nombre': 'Jorge', 'edad': 25, 'notas': [6, 7, 10]}\n"
          ]
        }
      ]
    },
    {
      "cell_type": "code",
      "source": [
        "dicc_2['apellido']='perez'\n",
        "print(dicc_2)"
      ],
      "metadata": {
        "id": "Skt-BnUbvvs3",
        "colab": {
          "base_uri": "https://localhost:8080/"
        },
        "outputId": "1987ab17-29f6-4a59-d8d0-0d0d496eddc1"
      },
      "execution_count": null,
      "outputs": [
        {
          "output_type": "stream",
          "name": "stdout",
          "text": [
            "{'nombre': 'Jorge', 'edad': 25, 'notas': [6, 7, 10], 'apellido': 'perez'}\n"
          ]
        }
      ]
    },
    {
      "cell_type": "code",
      "source": [
        "print(dicc_3)"
      ],
      "metadata": {
        "id": "GcOxhvR_w7KP",
        "colab": {
          "base_uri": "https://localhost:8080/"
        },
        "outputId": "a6ed034d-0cf3-494c-e716-dc0515438171"
      },
      "execution_count": null,
      "outputs": [
        {
          "output_type": "stream",
          "name": "stdout",
          "text": [
            "{'nombre': 'Jorge', 'edad': 25, 'notas': [6, 7, 10], 'apellido': 'perez'}\n"
          ]
        }
      ]
    },
    {
      "cell_type": "code",
      "source": [
        "dicc_3=dicc_2.copy()"
      ],
      "metadata": {
        "id": "Bj5yhDqBxCqB"
      },
      "execution_count": null,
      "outputs": []
    },
    {
      "cell_type": "code",
      "source": [
        "dicc_2['profesion']='contador'\n",
        "print(dicc_2)"
      ],
      "metadata": {
        "id": "dZSVjskKxLHi",
        "colab": {
          "base_uri": "https://localhost:8080/"
        },
        "outputId": "41032083-7d0d-49ee-ba5c-b60466d50cda"
      },
      "execution_count": null,
      "outputs": [
        {
          "output_type": "stream",
          "name": "stdout",
          "text": [
            "{'nombre': 'Jorge', 'edad': 25, 'notas': [6, 7, 10], 'apellido': 'perez', 'profesion': 'contador'}\n"
          ]
        }
      ]
    },
    {
      "cell_type": "code",
      "source": [
        "print(dicc_3)"
      ],
      "metadata": {
        "id": "bncRjWzuxTds",
        "colab": {
          "base_uri": "https://localhost:8080/"
        },
        "outputId": "d419b695-2fe5-4a45-fbed-66ca3b101b0c"
      },
      "execution_count": null,
      "outputs": [
        {
          "output_type": "stream",
          "name": "stdout",
          "text": [
            "{'nombre': 'Jorge', 'edad': 25, 'notas': [6, 7, 10], 'apellido': 'perez'}\n"
          ]
        }
      ]
    },
    {
      "cell_type": "markdown",
      "source": [
        "### Tiempo de Ejecución"
      ],
      "metadata": {
        "id": "-K_sWiOFxgtJ"
      }
    },
    {
      "cell_type": "markdown",
      "source": [
        "Vamos a utilizar la libreria time de python, para conocer el tiempo en segundos que conusme cada función del ejemplo anterior.\n",
        "\n",
        "https://docs.python.org/3/library/time.html"
      ],
      "metadata": {
        "id": "Av60G9znzUTD"
      }
    },
    {
      "cell_type": "code",
      "source": [
        "#Importamos la libreria time\n",
        "import time\n",
        "\n",
        "#inicia cronometro\n",
        "ini = time.time()\n",
        "\n",
        "#ejecuta instrucción\n",
        "print(\"hola\")\n",
        "\n",
        "#finaliza cronometro\n",
        "fin = time.time()\n",
        "\n",
        "#imprime tiempo de procesamiento\n",
        "print('Tiempo de procesamiento: ', fin - ini)"
      ],
      "metadata": {
        "id": "sHY48JzIqeY4",
        "colab": {
          "base_uri": "https://localhost:8080/"
        },
        "outputId": "14d0a4bd-8b5f-4413-a2e4-44311959b4b9"
      },
      "execution_count": null,
      "outputs": [
        {
          "output_type": "stream",
          "name": "stdout",
          "text": [
            "hola\n",
            "Tiempo de procesamiento:  0.0010025501251220703\n"
          ]
        }
      ]
    },
    {
      "cell_type": "markdown",
      "source": [
        "Comparemos el tiempo de ejecución de las funciones func1 y func2 para un mismo tamaño de entrada (cantidad de elementos de la lista)"
      ],
      "metadata": {
        "id": "na62cX88x0Vn"
      }
    },
    {
      "cell_type": "code",
      "source": [
        "lista =[0, 0, 5, 0, 0, 5, 10, 20, 6]\n",
        "print(len(lista))"
      ],
      "metadata": {
        "id": "tD026tQfvI4y",
        "colab": {
          "base_uri": "https://localhost:8080/"
        },
        "outputId": "2c28ca3b-dde7-4dfa-893a-68d0f3c54f8a"
      },
      "execution_count": null,
      "outputs": [
        {
          "output_type": "stream",
          "name": "stdout",
          "text": [
            "9\n"
          ]
        }
      ]
    },
    {
      "cell_type": "code",
      "source": [
        "ini=time.time()\n",
        "func1(lista)\n",
        "fin = time.time()\n",
        "print('tiempo de procesamiento: ', round(fin - ini, 5))"
      ],
      "metadata": {
        "id": "uY8pn5pIvSAs",
        "colab": {
          "base_uri": "https://localhost:8080/"
        },
        "outputId": "b863ab69-0915-4459-c018-e162e3dfa986"
      },
      "execution_count": null,
      "outputs": [
        {
          "output_type": "stream",
          "name": "stdout",
          "text": [
            "tiempo de procesamiento:  9e-05\n"
          ]
        }
      ]
    },
    {
      "cell_type": "code",
      "source": [
        "ini=time.time()\n",
        "func2(lista)\n",
        "fin = time.time()\n",
        "print('tiempo de procesamiento: ', round(fin - ini,5))"
      ],
      "metadata": {
        "id": "gpxTPXKsvY5o",
        "colab": {
          "base_uri": "https://localhost:8080/"
        },
        "outputId": "ba675d63-df5b-4ad3-c6ea-f1a7b283d84d"
      },
      "execution_count": null,
      "outputs": [
        {
          "output_type": "stream",
          "name": "stdout",
          "text": [
            "tiempo de procesamiento:  0.00012\n"
          ]
        }
      ]
    },
    {
      "cell_type": "markdown",
      "source": [
        "Comparemos el tiempo de ejecución de las funciones func1 y func2 si aumentamos el tamaño de mismo la entrada (cantidad de elementos de la lista)"
      ],
      "metadata": {
        "id": "05rXq4KIx7t8"
      }
    },
    {
      "cell_type": "code",
      "source": [
        "lista =[0, 0, 5, 0, 0, 5, 10, 20, 6]*1000\n",
        "print(len(lista))"
      ],
      "metadata": {
        "id": "3HJlAMT5yT-_",
        "colab": {
          "base_uri": "https://localhost:8080/"
        },
        "outputId": "3c5b7905-99c4-436e-cb13-534c50080f3e"
      },
      "execution_count": null,
      "outputs": [
        {
          "output_type": "stream",
          "name": "stdout",
          "text": [
            "9000\n"
          ]
        }
      ]
    },
    {
      "cell_type": "code",
      "source": [
        "ini=time.time()\n",
        "func1(lista)\n",
        "fin = time.time()\n",
        "print('tiempo de procesamiento: ', fin - ini)"
      ],
      "metadata": {
        "id": "XH39pdYOyJ8v",
        "colab": {
          "base_uri": "https://localhost:8080/"
        },
        "outputId": "1a642c93-0642-48f7-ba98-44d545efd293"
      },
      "execution_count": null,
      "outputs": [
        {
          "output_type": "stream",
          "name": "stdout",
          "text": [
            "tiempo de procesamiento:  6.025554418563843\n"
          ]
        }
      ]
    },
    {
      "cell_type": "code",
      "source": [
        "ini=time.time()\n",
        "func2(lista)\n",
        "fin = time.time()\n",
        "print('tiempo de procesamiento: ', fin - ini)"
      ],
      "metadata": {
        "id": "mxWE5zmeyZ81",
        "colab": {
          "base_uri": "https://localhost:8080/"
        },
        "outputId": "de8e1a9f-85f2-4a7c-d1da-4defc88eaf98"
      },
      "execution_count": null,
      "outputs": [
        {
          "output_type": "stream",
          "name": "stdout",
          "text": [
            "tiempo de procesamiento:  0.0030024051666259766\n"
          ]
        }
      ]
    },
    {
      "cell_type": "markdown",
      "source": [
        "##Algoritmos de Búsqueda"
      ],
      "metadata": {
        "id": "QalK9K-bZPVT"
      }
    },
    {
      "cell_type": "markdown",
      "source": [
        "### Búsqueda Lineal"
      ],
      "metadata": {
        "id": "oDkBPC4rMD8v"
      }
    },
    {
      "cell_type": "code",
      "source": [
        "def busqueda_lineal(lista, elemento):\n",
        "  pos  = -1\n",
        "  j    = 0\n",
        "\n",
        "  while (j < len(lista)):\n",
        "    if (lista[j] == elemento):\n",
        "      pos  = j\n",
        "    j = j+1\n",
        "\n",
        "  return pos"
      ],
      "metadata": {
        "id": "R43-8_FQZS0C"
      },
      "execution_count": null,
      "outputs": []
    },
    {
      "cell_type": "code",
      "source": [
        "#Si el elemento está en la lista, devuelve su posición\n",
        "lista =[20, 10, 5, 0, 18, 3, 55, 11, 6]\n",
        "posicion = busqueda_lineal(lista, 0)\n",
        "print(posicion)"
      ],
      "metadata": {
        "colab": {
          "base_uri": "https://localhost:8080/"
        },
        "id": "47-aK3NkMLo2",
        "outputId": "27048300-de7b-4658-eb5d-c21f425b81c4"
      },
      "execution_count": null,
      "outputs": [
        {
          "output_type": "stream",
          "name": "stdout",
          "text": [
            "3\n"
          ]
        }
      ]
    },
    {
      "cell_type": "code",
      "source": [
        "#Si el elemento no está en la lista, devuelve -1\n",
        "lista =[20, 10, 5, 0, 18, 3, 55, 11, 6]\n",
        "posicion = busqueda_lineal(lista, 2)\n",
        "print(posicion)"
      ],
      "metadata": {
        "colab": {
          "base_uri": "https://localhost:8080/"
        },
        "id": "i2uYh8pX0SzG",
        "outputId": "dfd986e0-f599-44b6-94de-ae065d7cbb39"
      },
      "execution_count": null,
      "outputs": [
        {
          "output_type": "stream",
          "name": "stdout",
          "text": [
            "-1\n"
          ]
        }
      ]
    },
    {
      "cell_type": "markdown",
      "source": [
        "Veamos cuantas comparaciones realiza el alogritmo:"
      ],
      "metadata": {
        "id": "_7WRwnf90h7b"
      }
    },
    {
      "cell_type": "code",
      "source": [
        "def busqueda_lineal_2(lista, elemento):\n",
        "  pos  = -1\n",
        "  j    = 0\n",
        "  comp = 0\n",
        "\n",
        "  while (j < len(lista)):\n",
        "    comp=comp+1\n",
        "\n",
        "    if (lista[j] == elemento):\n",
        "      pos  = j\n",
        "\n",
        "    j = j+1\n",
        "\n",
        "  return pos,comp"
      ],
      "metadata": {
        "id": "i1YbOIXs0hcO"
      },
      "execution_count": null,
      "outputs": []
    },
    {
      "cell_type": "code",
      "source": [
        "lista =[20, 10, 5, 0, 18, 3, 55, 11, 6]\n",
        "posicion,comparaciones=busqueda_lineal_2(lista, 20)\n",
        "print(f'posicion:{posicion}\\ncomparaciones:{comparaciones}')"
      ],
      "metadata": {
        "colab": {
          "base_uri": "https://localhost:8080/"
        },
        "id": "cDoaR0mP04CT",
        "outputId": "7f24780f-dfc8-4db4-ac3d-dcee123738c4"
      },
      "execution_count": null,
      "outputs": [
        {
          "output_type": "stream",
          "name": "stdout",
          "text": [
            "posicion:0\n",
            "comparaciones:9\n"
          ]
        }
      ]
    },
    {
      "cell_type": "code",
      "source": [
        "posicion,comparaciones=busqueda_lineal_2(lista, 6)\n",
        "print(f'posicion:{posicion}\\ncomparaciones:{comparaciones}')"
      ],
      "metadata": {
        "colab": {
          "base_uri": "https://localhost:8080/"
        },
        "id": "Dv8iNTWS3MTG",
        "outputId": "b6acdaca-84c3-46db-8c38-e4a6a8c08462"
      },
      "execution_count": null,
      "outputs": [
        {
          "output_type": "stream",
          "name": "stdout",
          "text": [
            "posicion:8\n",
            "comparaciones:9\n"
          ]
        }
      ]
    },
    {
      "cell_type": "markdown",
      "source": [
        "¿Podríamos dejar de hacer comparaciones si ya encontramos el elemento?"
      ],
      "metadata": {
        "id": "TxiAvvf14JUM"
      }
    },
    {
      "cell_type": "code",
      "source": [
        "def busqueda_lineal_3(lista, elemento):\n",
        "  pos  = -1\n",
        "  j    = 0\n",
        "  esta=False\n",
        "  comp=0\n",
        "  while (j < len(lista)) and (not esta) :\n",
        "\n",
        "    comp+=1\n",
        "    if (lista[j] == elemento):\n",
        "      pos  = j\n",
        "      esta=True\n",
        "\n",
        "    j = j+1\n",
        "\n",
        "  return pos,comp"
      ],
      "metadata": {
        "id": "OCbNg_WD4Pgr"
      },
      "execution_count": null,
      "outputs": []
    },
    {
      "cell_type": "code",
      "source": [
        "posicion,comparaciones=busqueda_lineal_3(lista, 20)\n",
        "print(f'posicion: {posicion}\\ncomparaciones: {comparaciones}')"
      ],
      "metadata": {
        "colab": {
          "base_uri": "https://localhost:8080/"
        },
        "id": "vlHDpwyY5D4J",
        "outputId": "ecd42545-b732-48e3-89e5-f2e4f92435f3"
      },
      "execution_count": null,
      "outputs": [
        {
          "output_type": "stream",
          "name": "stdout",
          "text": [
            "posicion: 0\n",
            "comparaciones: 1\n"
          ]
        }
      ]
    },
    {
      "cell_type": "code",
      "source": [
        "posicion,comparaciones=busqueda_lineal_3(lista, 6)\n",
        "print(f'posicion: {posicion}\\ncomparaciones: {comparaciones}')"
      ],
      "metadata": {
        "colab": {
          "base_uri": "https://localhost:8080/"
        },
        "id": "vAcZMMAJ5SBX",
        "outputId": "36e7a07a-0d2f-4081-a687-e96e4f1fe052"
      },
      "execution_count": null,
      "outputs": [
        {
          "output_type": "stream",
          "name": "stdout",
          "text": [
            "posicion: 8\n",
            "comparaciones: 9\n"
          ]
        }
      ]
    },
    {
      "cell_type": "markdown",
      "source": [
        "Estas modificaciones nos permiten ahorrar tiempo de ejecución pero no cambia el orden en el peor caso (cuándo el elemento no está en la lista o está en la última posición)"
      ],
      "metadata": {
        "id": "dAsJfAd9EqgY"
      }
    },
    {
      "cell_type": "markdown",
      "source": [
        "### Búsqueda Binaria"
      ],
      "metadata": {
        "id": "fe08djUoMsF1"
      }
    },
    {
      "cell_type": "code",
      "source": [
        "def busqueda_binaria(lista, elemento):\n",
        "  esta, pos = False, -1\n",
        "  izq, der  = 0, len(lista)-1\n",
        "\n",
        "  while (izq < der):\n",
        "    med = (izq + der) // 2\n",
        "    if (lista[med] < elemento):\n",
        "      izq = med + 1\n",
        "    else:\n",
        "      der = med\n",
        "\n",
        "  if (len(lista) != 0 and lista[izq] == elemento):\n",
        "    esta, pos = True, izq\n",
        "\n",
        "  return (esta, pos)"
      ],
      "metadata": {
        "id": "EOJNnIQ8Mw1e"
      },
      "execution_count": null,
      "outputs": []
    },
    {
      "cell_type": "code",
      "source": [
        "lista =[3, 5, 11, 15, 18, 20, 55, 87]\n",
        "\n",
        "x = busqueda_binaria(lista, 18)\n",
        "print(x)"
      ],
      "metadata": {
        "id": "sUs0p8qTM5qM",
        "colab": {
          "base_uri": "https://localhost:8080/"
        },
        "outputId": "bb2c562b-100a-47f8-f0ff-9a0e0c764b21"
      },
      "execution_count": null,
      "outputs": [
        {
          "output_type": "stream",
          "name": "stdout",
          "text": [
            "(True, 4)\n"
          ]
        }
      ]
    },
    {
      "cell_type": "code",
      "source": [
        "x = busqueda_binaria(lista, 1)\n",
        "print(x)"
      ],
      "metadata": {
        "id": "16I8sJ31523N",
        "colab": {
          "base_uri": "https://localhost:8080/"
        },
        "outputId": "2d81a719-fbca-4729-92ba-4d594fe2ec8e"
      },
      "execution_count": null,
      "outputs": [
        {
          "output_type": "stream",
          "name": "stdout",
          "text": [
            "(False, -1)\n"
          ]
        }
      ]
    },
    {
      "cell_type": "markdown",
      "metadata": {
        "id": "KZqrWapnxN0K"
      },
      "source": [
        "## Ejercicios:\n"
      ]
    },
    {
      "cell_type": "markdown",
      "source": [
        "### Ejercicio 1\n",
        "Implementar una función que dada una lista **L** de números enteros, devuelva el elemento menor de la misma\n"
      ],
      "metadata": {
        "id": "Fm_1kH9rY6t2"
      }
    },
    {
      "cell_type": "code",
      "source": [
        "# COMPLETAR"
      ],
      "metadata": {
        "id": "86FElSfdY7Jw"
      },
      "execution_count": null,
      "outputs": []
    },
    {
      "cell_type": "markdown",
      "source": [
        "### Ejercicio 2\n",
        "Implementar una función que dada una lista **L** y un elemento **e**, devuelva la lista resultante de eliminar **e** de la lista original. Considerar la posibilidad que **e** se encuentre repetido."
      ],
      "metadata": {
        "id": "Y98G7O6kQrL2"
      }
    },
    {
      "cell_type": "code",
      "source": [
        "# COMPLETAR"
      ],
      "metadata": {
        "id": "iN4TSbRnQ1f9"
      },
      "execution_count": null,
      "outputs": []
    },
    {
      "cell_type": "markdown",
      "source": [
        "### Ejercicio 3\n",
        "a) Implementar una función que dada una lista **L** busque cuántas veces aparece un elemento **e** en dicha lista.<br>\n",
        "Por ejemplo, en la lista [1,2,3,1,6,1,99,1,0] el número 1 aparece 4 veces.\n",
        "\n",
        "b) Si la lista se encuentra ordenada, ¿qué modificaciones realizaría al algoritmo para que la búsqueda sea mas eficiente? Implementar dicha modificación"
      ],
      "metadata": {
        "id": "4J3wi0FwY7l2"
      }
    },
    {
      "cell_type": "code",
      "source": [
        "# COMPLETAR"
      ],
      "metadata": {
        "id": "Fgf8cGUqY8CU"
      },
      "execution_count": null,
      "outputs": []
    },
    {
      "cell_type": "markdown",
      "source": [
        "### Ejercicio 4\n",
        "Modificar la función de búsqueda binaria agergándole un tercer parámetro que indique si la lista está ordenada en forma creciente o decreciente.\n",
        "\n",
        "      BusquedaBinaria(lista,elemento,orden)"
      ],
      "metadata": {
        "id": "ePpvh0XuSE6F"
      }
    },
    {
      "cell_type": "code",
      "source": [
        "# COMPLETAR"
      ],
      "metadata": {
        "id": "B4VcohvgSmle"
      },
      "execution_count": null,
      "outputs": []
    },
    {
      "cell_type": "markdown",
      "metadata": {
        "id": "m0qbdIGDKcUe"
      },
      "source": [
        "### Ejercicio 5\n",
        "\n",
        "Implementar una función que dadas dos listas ordenadas **L1** y **L2**  sin elementos repetidos devuelva la cantidad de elementos de L1 que aparecen en L2 en O(len(L1)+len(L2))\n"
      ]
    },
    {
      "cell_type": "code",
      "metadata": {
        "id": "p-2e8nLVKkB2"
      },
      "source": [
        "# COMPLETAR"
      ],
      "execution_count": null,
      "outputs": []
    },
    {
      "cell_type": "markdown",
      "metadata": {
        "id": "Rgd33nFaKltV"
      },
      "source": [
        "### Ejercicio 6\n",
        "\n",
        "Dada una lista cuyos valores están entre 0 y 9, implementar un algoritmo que la ordene en O(len(L))"
      ]
    },
    {
      "cell_type": "code",
      "metadata": {
        "id": "ESy4IwooKtqt"
      },
      "source": [
        "# COMPLETAR"
      ],
      "execution_count": null,
      "outputs": []
    }
  ]
}